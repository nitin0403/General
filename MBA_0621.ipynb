{
 "cells": [
  {
   "cell_type": "code",
   "execution_count": 33,
   "metadata": {},
   "outputs": [],
   "source": [
    "# Importing the libraries\n",
    "\n",
    "import numpy as np\n",
    "import matplotlib.pyplot as plt\n",
    "import pandas as pd\n",
    "from apyori import apriori\n",
    "%matplotlib inline"
   ]
  },
  {
   "cell_type": "code",
   "execution_count": 83,
   "metadata": {},
   "outputs": [
    {
     "name": "stderr",
     "output_type": "stream",
     "text": [
      "c:\\users\\nitin.b\\appdata\\local\\programs\\python\\python38\\lib\\site-packages\\IPython\\core\\interactiveshell.py:3062: DtypeWarning: Columns (0) have mixed types.Specify dtype option on import or set low_memory=False.\n",
      "  has_raised = await self.run_ast_nodes(code_ast.body, cell_name,\n"
     ]
    },
    {
     "data": {
      "text/html": [
       "<div>\n",
       "<style scoped>\n",
       "    .dataframe tbody tr th:only-of-type {\n",
       "        vertical-align: middle;\n",
       "    }\n",
       "\n",
       "    .dataframe tbody tr th {\n",
       "        vertical-align: top;\n",
       "    }\n",
       "\n",
       "    .dataframe thead th {\n",
       "        text-align: right;\n",
       "    }\n",
       "</style>\n",
       "<table border=\"1\" class=\"dataframe\">\n",
       "  <thead>\n",
       "    <tr style=\"text-align: right;\">\n",
       "      <th></th>\n",
       "      <th>invoice</th>\n",
       "      <th>sub_class</th>\n",
       "    </tr>\n",
       "  </thead>\n",
       "  <tbody>\n",
       "    <tr>\n",
       "      <th>0</th>\n",
       "      <td></td>\n",
       "      <td>BS-Non Trading_BS-Non Trading_NT - Consumables...</td>\n",
       "    </tr>\n",
       "    <tr>\n",
       "      <th>1</th>\n",
       "      <td></td>\n",
       "      <td>BS-Non Trading_Gift Voucher_Gif Voucher_Gift V...</td>\n",
       "    </tr>\n",
       "    <tr>\n",
       "      <th>2</th>\n",
       "      <td></td>\n",
       "      <td>Basics Apparels_Apparel Non Seasonal_Multipack...</td>\n",
       "    </tr>\n",
       "    <tr>\n",
       "      <th>3</th>\n",
       "      <td></td>\n",
       "      <td>Basics Apparels_Apparel Non Seasonal_Multipack...</td>\n",
       "    </tr>\n",
       "    <tr>\n",
       "      <th>4</th>\n",
       "      <td></td>\n",
       "      <td>Basics Apparels_Apparel Non Seasonal_Multipack...</td>\n",
       "    </tr>\n",
       "  </tbody>\n",
       "</table>\n",
       "</div>"
      ],
      "text/plain": [
       "  invoice                                          sub_class\n",
       "0          BS-Non Trading_BS-Non Trading_NT - Consumables...\n",
       "1          BS-Non Trading_Gift Voucher_Gif Voucher_Gift V...\n",
       "2          Basics Apparels_Apparel Non Seasonal_Multipack...\n",
       "3          Basics Apparels_Apparel Non Seasonal_Multipack...\n",
       "4          Basics Apparels_Apparel Non Seasonal_Multipack..."
      ]
     },
     "execution_count": 83,
     "metadata": {},
     "output_type": "execute_result"
    }
   ],
   "source": [
    "# Load dataset\n",
    "dataset = pd.read_csv('AE_MBARAW_BS_LLY.csv')\n",
    "dataset.head()"
   ]
  },
  {
   "cell_type": "code",
   "execution_count": 84,
   "metadata": {},
   "outputs": [
    {
     "name": "stdout",
     "output_type": "stream",
     "text": [
      "                 invoice                                          sub_class\n",
      "0                    NaN  BS-Non Trading_BS-Non Trading_NT - Consumables...\n",
      "1                    NaN  BS-Non Trading_Gift Voucher_Gif Voucher_Gift V...\n",
      "2                    NaN  Basics Apparels_Apparel Non Seasonal_Multipack...\n",
      "3                    NaN  Basics Apparels_Apparel Non Seasonal_Multipack...\n",
      "4                    NaN  Basics Apparels_Apparel Non Seasonal_Multipack...\n",
      "...                  ...                                                ...\n",
      "6720991  LMSOS9842392215  Basics Apparels_Apparel Regular_Bodysuit_Bodysuit\n",
      "6720992  LMSOS9842392215  Basics Non Apparels_Bath & Bedding_Blankets_Re...\n",
      "6720993  LMSOS9842392215  Basics Non Apparels_Bath & Bedding_Towels & Ac...\n",
      "6720994  LMSOS9842392820        Clothing Boys_New Toddler Boys_Tops_T-Shirt\n",
      "6720995  LMSOS9842392820  Clothing Essentials_Essential Younger and Scho...\n",
      "\n",
      "[6720996 rows x 2 columns]\n"
     ]
    }
   ],
   "source": [
    "# clean up invoice column\n",
    "dataset['invoice'].replace('', np.nan, inplace=True)\n",
    "print(dataset)"
   ]
  },
  {
   "cell_type": "code",
   "execution_count": 85,
   "metadata": {},
   "outputs": [],
   "source": [
    "# dropna's\n",
    "dataset.dropna(subset=['invoice'], inplace=True)"
   ]
  },
  {
   "cell_type": "code",
   "execution_count": 86,
   "metadata": {},
   "outputs": [
    {
     "data": {
      "text/html": [
       "<div>\n",
       "<style scoped>\n",
       "    .dataframe tbody tr th:only-of-type {\n",
       "        vertical-align: middle;\n",
       "    }\n",
       "\n",
       "    .dataframe tbody tr th {\n",
       "        vertical-align: top;\n",
       "    }\n",
       "\n",
       "    .dataframe thead th {\n",
       "        text-align: right;\n",
       "    }\n",
       "</style>\n",
       "<table border=\"1\" class=\"dataframe\">\n",
       "  <thead>\n",
       "    <tr style=\"text-align: right;\">\n",
       "      <th></th>\n",
       "      <th>invoice</th>\n",
       "      <th>sub_class</th>\n",
       "    </tr>\n",
       "  </thead>\n",
       "  <tbody>\n",
       "    <tr>\n",
       "      <th>305</th>\n",
       "      <td>10003101000020181220</td>\n",
       "      <td>Basics Non Apparels_Feeding &amp; Care_Feeding &amp; S...</td>\n",
       "    </tr>\n",
       "    <tr>\n",
       "      <th>306</th>\n",
       "      <td>10003101000120180921</td>\n",
       "      <td>Basics Apparels_Apparel Non Seasonal_Multipack...</td>\n",
       "    </tr>\n",
       "    <tr>\n",
       "      <th>307</th>\n",
       "      <td>10003101000120180921</td>\n",
       "      <td>Basics Apparels_Apparel Regular_Accessories_Bo...</td>\n",
       "    </tr>\n",
       "    <tr>\n",
       "      <th>308</th>\n",
       "      <td>10003101000120180921</td>\n",
       "      <td>Basics Non Apparels_Feeding &amp; Care_Baby Care_C...</td>\n",
       "    </tr>\n",
       "    <tr>\n",
       "      <th>309</th>\n",
       "      <td>10003101000120180921</td>\n",
       "      <td>Clothing Girls_Baby Girls_Bottoms_Pants</td>\n",
       "    </tr>\n",
       "  </tbody>\n",
       "</table>\n",
       "</div>"
      ],
      "text/plain": [
       "                  invoice                                          sub_class\n",
       "305  10003101000020181220  Basics Non Apparels_Feeding & Care_Feeding & S...\n",
       "306  10003101000120180921  Basics Apparels_Apparel Non Seasonal_Multipack...\n",
       "307  10003101000120180921  Basics Apparels_Apparel Regular_Accessories_Bo...\n",
       "308  10003101000120180921  Basics Non Apparels_Feeding & Care_Baby Care_C...\n",
       "309  10003101000120180921            Clothing Girls_Baby Girls_Bottoms_Pants"
      ]
     },
     "execution_count": 86,
     "metadata": {},
     "output_type": "execute_result"
    }
   ],
   "source": [
    "dataset.head()"
   ]
  },
  {
   "cell_type": "code",
   "execution_count": 87,
   "metadata": {},
   "outputs": [
    {
     "data": {
      "text/plain": [
       "(6720691, 2)"
      ]
     },
     "execution_count": 87,
     "metadata": {},
     "output_type": "execute_result"
    }
   ],
   "source": [
    "dataset.shape"
   ]
  },
  {
   "cell_type": "code",
   "execution_count": 88,
   "metadata": {},
   "outputs": [
    {
     "data": {
      "text/html": [
       "<div>\n",
       "<style scoped>\n",
       "    .dataframe tbody tr th:only-of-type {\n",
       "        vertical-align: middle;\n",
       "    }\n",
       "\n",
       "    .dataframe tbody tr th {\n",
       "        vertical-align: top;\n",
       "    }\n",
       "\n",
       "    .dataframe thead th {\n",
       "        text-align: right;\n",
       "    }\n",
       "</style>\n",
       "<table border=\"1\" class=\"dataframe\">\n",
       "  <thead>\n",
       "    <tr style=\"text-align: right;\">\n",
       "      <th></th>\n",
       "      <th>invoice</th>\n",
       "      <th>sub_class</th>\n",
       "    </tr>\n",
       "  </thead>\n",
       "  <tbody>\n",
       "    <tr>\n",
       "      <th>305</th>\n",
       "      <td>10003101000020181220</td>\n",
       "      <td>Basics Non Apparels_Feeding &amp; Care_Feeding &amp; S...</td>\n",
       "    </tr>\n",
       "    <tr>\n",
       "      <th>306</th>\n",
       "      <td>10003101000120180921</td>\n",
       "      <td>Basics Apparels_Apparel Non Seasonal_Multipack...</td>\n",
       "    </tr>\n",
       "    <tr>\n",
       "      <th>307</th>\n",
       "      <td>10003101000120180921</td>\n",
       "      <td>Basics Apparels_Apparel Regular_Accessories_Bo...</td>\n",
       "    </tr>\n",
       "    <tr>\n",
       "      <th>308</th>\n",
       "      <td>10003101000120180921</td>\n",
       "      <td>Basics Non Apparels_Feeding &amp; Care_Baby Care_C...</td>\n",
       "    </tr>\n",
       "    <tr>\n",
       "      <th>309</th>\n",
       "      <td>10003101000120180921</td>\n",
       "      <td>Clothing Girls_Baby Girls_Bottoms_Pants</td>\n",
       "    </tr>\n",
       "  </tbody>\n",
       "</table>\n",
       "</div>"
      ],
      "text/plain": [
       "                  invoice                                          sub_class\n",
       "305  10003101000020181220  Basics Non Apparels_Feeding & Care_Feeding & S...\n",
       "306  10003101000120180921  Basics Apparels_Apparel Non Seasonal_Multipack...\n",
       "307  10003101000120180921  Basics Apparels_Apparel Regular_Accessories_Bo...\n",
       "308  10003101000120180921  Basics Non Apparels_Feeding & Care_Baby Care_C...\n",
       "309  10003101000120180921            Clothing Girls_Baby Girls_Bottoms_Pants"
      ]
     },
     "execution_count": 88,
     "metadata": {},
     "output_type": "execute_result"
    }
   ],
   "source": [
    "#Cleaning the data\n",
    "dataset['sub_class'] = dataset['sub_class'].str.strip() \n",
    "dataset.dropna(axis=0, subset=['invoice'], inplace=True) \n",
    "dataset['invoice'] = dataset['invoice'].astype('str')\n",
    "dataset.head()"
   ]
  },
  {
   "cell_type": "code",
   "execution_count": 9,
   "metadata": {},
   "outputs": [],
   "source": [
    "# df=dataset.head(1000)\n",
    "# df.shape"
   ]
  },
  {
   "cell_type": "code",
   "execution_count": 89,
   "metadata": {},
   "outputs": [
    {
     "data": {
      "text/html": [
       "<div>\n",
       "<style scoped>\n",
       "    .dataframe tbody tr th:only-of-type {\n",
       "        vertical-align: middle;\n",
       "    }\n",
       "\n",
       "    .dataframe tbody tr th {\n",
       "        vertical-align: top;\n",
       "    }\n",
       "\n",
       "    .dataframe thead th {\n",
       "        text-align: right;\n",
       "    }\n",
       "</style>\n",
       "<table border=\"1\" class=\"dataframe\">\n",
       "  <thead>\n",
       "    <tr style=\"text-align: right;\">\n",
       "      <th></th>\n",
       "      <th>invoice</th>\n",
       "      <th>new</th>\n",
       "    </tr>\n",
       "  </thead>\n",
       "  <tbody>\n",
       "    <tr>\n",
       "      <th>0</th>\n",
       "      <td>10003101000020181220</td>\n",
       "      <td>[Basics Non Apparels_Feeding &amp; Care_Feeding &amp; ...</td>\n",
       "    </tr>\n",
       "    <tr>\n",
       "      <th>1</th>\n",
       "      <td>10003101000120180921</td>\n",
       "      <td>[Basics Apparels_Apparel Non Seasonal_Multipac...</td>\n",
       "    </tr>\n",
       "    <tr>\n",
       "      <th>2</th>\n",
       "      <td>10003101000120181220</td>\n",
       "      <td>[Toys Boys &amp; Girls_Boys Toys_Vehicle Toys_R/c ...</td>\n",
       "    </tr>\n",
       "    <tr>\n",
       "      <th>3</th>\n",
       "      <td>10003101000220180921</td>\n",
       "      <td>[Basics Apparels_Apparel Seasonal_Accessories_...</td>\n",
       "    </tr>\n",
       "    <tr>\n",
       "      <th>4</th>\n",
       "      <td>10003101000220181220</td>\n",
       "      <td>[Basics Non Apparels_Feeding &amp; Care_Feeding &amp; ...</td>\n",
       "    </tr>\n",
       "  </tbody>\n",
       "</table>\n",
       "</div>"
      ],
      "text/plain": [
       "                invoice                                                new\n",
       "0  10003101000020181220  [Basics Non Apparels_Feeding & Care_Feeding & ...\n",
       "1  10003101000120180921  [Basics Apparels_Apparel Non Seasonal_Multipac...\n",
       "2  10003101000120181220  [Toys Boys & Girls_Boys Toys_Vehicle Toys_R/c ...\n",
       "3  10003101000220180921  [Basics Apparels_Apparel Seasonal_Accessories_...\n",
       "4  10003101000220181220  [Basics Non Apparels_Feeding & Care_Feeding & ..."
      ]
     },
     "execution_count": 89,
     "metadata": {},
     "output_type": "execute_result"
    }
   ],
   "source": [
    "# collect sublcasses invoice wise in a list\n",
    "df1 = dataset.groupby('invoice')['sub_class'].apply(list).reset_index(name='new')\n",
    "df1.head()"
   ]
  },
  {
   "cell_type": "code",
   "execution_count": 90,
   "metadata": {},
   "outputs": [
    {
     "data": {
      "text/plain": [
       "(2240764, 2)"
      ]
     },
     "execution_count": 90,
     "metadata": {},
     "output_type": "execute_result"
    }
   ],
   "source": [
    "df1.shape"
   ]
  },
  {
   "cell_type": "code",
   "execution_count": 92,
   "metadata": {},
   "outputs": [
    {
     "data": {
      "text/plain": [
       "0    [Basics Non Apparels_Feeding & Care_Feeding & ...\n",
       "1    [Basics Apparels_Apparel Non Seasonal_Multipac...\n",
       "2    [Toys Boys & Girls_Boys Toys_Vehicle Toys_R/c ...\n",
       "3    [Basics Apparels_Apparel Seasonal_Accessories_...\n",
       "4    [Basics Non Apparels_Feeding & Care_Feeding & ...\n",
       "Name: new, dtype: object"
      ]
     },
     "execution_count": 92,
     "metadata": {},
     "output_type": "execute_result"
    }
   ],
   "source": [
    "# use only the column of subclass collected in a list\n",
    "data2 = df1['new']\n",
    "data2.head()"
   ]
  },
  {
   "cell_type": "code",
   "execution_count": 93,
   "metadata": {},
   "outputs": [
    {
     "data": {
      "text/plain": [
       "True"
      ]
     },
     "execution_count": 93,
     "metadata": {},
     "output_type": "execute_result"
    }
   ],
   "source": [
    "boolean = df1[\"invoice\"].is_unique\n",
    "boolean"
   ]
  },
  {
   "cell_type": "code",
   "execution_count": 94,
   "metadata": {},
   "outputs": [],
   "source": [
    "# create rules based on what support, confidence and lift you would like to see\n",
    "rules = apriori(data2,min_support=0.001,min_confidence=0.1,min_lift=3,min_length=2)"
   ]
  },
  {
   "cell_type": "code",
   "execution_count": 95,
   "metadata": {},
   "outputs": [],
   "source": [
    "results = list(rules)"
   ]
  },
  {
   "cell_type": "code",
   "execution_count": 96,
   "metadata": {},
   "outputs": [
    {
     "data": {
      "text/plain": [
       "3082"
      ]
     },
     "execution_count": 96,
     "metadata": {},
     "output_type": "execute_result"
    }
   ],
   "source": [
    "len(results)"
   ]
  },
  {
   "cell_type": "code",
   "execution_count": 97,
   "metadata": {},
   "outputs": [],
   "source": [
    "def inspect(results):\n",
    "    lhs         = [tuple(result[2][0][0])[0] for result in results]\n",
    "    rhs         = [tuple(result[2][0][1])[0] for result in results]\n",
    "    supports    = [result[1] for result in results]\n",
    "    confidences = [result[2][0][2] for result in results]\n",
    "    lifts       = [result[2][0][3] for result in results]\n",
    "    return list(zip(lhs, rhs, supports, confidences, lifts))\n",
    "ordered_results = pd.DataFrame(inspect(results), columns = ['Left Hand Side', 'Right Hand Side', 'Support', 'Confidence', 'Lift'])"
   ]
  },
  {
   "cell_type": "code",
   "execution_count": 98,
   "metadata": {},
   "outputs": [
    {
     "data": {
      "text/html": [
       "<div>\n",
       "<style scoped>\n",
       "    .dataframe tbody tr th:only-of-type {\n",
       "        vertical-align: middle;\n",
       "    }\n",
       "\n",
       "    .dataframe tbody tr th {\n",
       "        vertical-align: top;\n",
       "    }\n",
       "\n",
       "    .dataframe thead th {\n",
       "        text-align: right;\n",
       "    }\n",
       "</style>\n",
       "<table border=\"1\" class=\"dataframe\">\n",
       "  <thead>\n",
       "    <tr style=\"text-align: right;\">\n",
       "      <th></th>\n",
       "      <th>Left Hand Side</th>\n",
       "      <th>Right Hand Side</th>\n",
       "      <th>Support</th>\n",
       "      <th>Confidence</th>\n",
       "      <th>Lift</th>\n",
       "    </tr>\n",
       "  </thead>\n",
       "  <tbody>\n",
       "    <tr>\n",
       "      <th>0</th>\n",
       "      <td>Basics Apparels_Apparel Non Seasonal_Multipack...</td>\n",
       "      <td>Basics Apparels_Apparel Non Seasonal_Multipack...</td>\n",
       "      <td>0.002659</td>\n",
       "      <td>0.156203</td>\n",
       "      <td>4.499078</td>\n",
       "    </tr>\n",
       "    <tr>\n",
       "      <th>1</th>\n",
       "      <td>Basics Apparels_Apparel Non Seasonal_Multipack...</td>\n",
       "      <td>Basics Apparels_Apparel Non Seasonal_Multipack...</td>\n",
       "      <td>0.008334</td>\n",
       "      <td>0.240035</td>\n",
       "      <td>9.119237</td>\n",
       "    </tr>\n",
       "    <tr>\n",
       "      <th>2</th>\n",
       "      <td>Basics Apparels_Apparel Non Seasonal_Sleepwear...</td>\n",
       "      <td>Basics Apparels_Apparel Non Seasonal_Multipack...</td>\n",
       "      <td>0.003359</td>\n",
       "      <td>0.169325</td>\n",
       "      <td>4.877026</td>\n",
       "    </tr>\n",
       "    <tr>\n",
       "      <th>3</th>\n",
       "      <td>Basics Apparels_Apparel Non Seasonal_Multipack...</td>\n",
       "      <td>Basics Apparels_Apparel Regular_Accessories_Bi...</td>\n",
       "      <td>0.007640</td>\n",
       "      <td>0.220047</td>\n",
       "      <td>3.686117</td>\n",
       "    </tr>\n",
       "    <tr>\n",
       "      <th>4</th>\n",
       "      <td>Basics Apparels_Apparel Non Seasonal_Multipack...</td>\n",
       "      <td>Basics Apparels_Apparel Regular_Accessories_Bo...</td>\n",
       "      <td>0.007700</td>\n",
       "      <td>0.221795</td>\n",
       "      <td>3.244742</td>\n",
       "    </tr>\n",
       "    <tr>\n",
       "      <th>...</th>\n",
       "      <td>...</td>\n",
       "      <td>...</td>\n",
       "      <td>...</td>\n",
       "      <td>...</td>\n",
       "      <td>...</td>\n",
       "    </tr>\n",
       "    <tr>\n",
       "      <th>3077</th>\n",
       "      <td>Basics Non Apparels_Bath &amp; Bedding_Blankets_Re...</td>\n",
       "      <td>Basics Non Apparels_Feeding &amp; Care_Feeding &amp; S...</td>\n",
       "      <td>0.001123</td>\n",
       "      <td>0.784289</td>\n",
       "      <td>10.037509</td>\n",
       "    </tr>\n",
       "    <tr>\n",
       "      <th>3078</th>\n",
       "      <td>Basics Apparels_Apparel Seasonal_Sleepsuit &amp; R...</td>\n",
       "      <td>Basics Non Apparels_Feeding &amp; Care_Feeding &amp; S...</td>\n",
       "      <td>0.001125</td>\n",
       "      <td>0.784381</td>\n",
       "      <td>10.038680</td>\n",
       "    </tr>\n",
       "    <tr>\n",
       "      <th>3079</th>\n",
       "      <td>Basics Non Apparels_Bath &amp; Bedding_Blankets_Re...</td>\n",
       "      <td>Basics Non Apparels_Feeding &amp; Care_Feeding &amp; S...</td>\n",
       "      <td>0.001063</td>\n",
       "      <td>0.799597</td>\n",
       "      <td>10.233423</td>\n",
       "    </tr>\n",
       "    <tr>\n",
       "      <th>3080</th>\n",
       "      <td>Basics Non Apparels_Bath &amp; Bedding_Blankets_Re...</td>\n",
       "      <td>Basics Non Apparels_Feeding &amp; Care_Feeding &amp; S...</td>\n",
       "      <td>0.001046</td>\n",
       "      <td>0.795925</td>\n",
       "      <td>10.186429</td>\n",
       "    </tr>\n",
       "    <tr>\n",
       "      <th>3081</th>\n",
       "      <td>Basics Non Apparels_Bath &amp; Bedding_Blankets_Re...</td>\n",
       "      <td>Basics Non Apparels_Feeding &amp; Care_Feeding &amp; S...</td>\n",
       "      <td>0.001132</td>\n",
       "      <td>0.805653</td>\n",
       "      <td>10.310921</td>\n",
       "    </tr>\n",
       "  </tbody>\n",
       "</table>\n",
       "<p>3082 rows × 5 columns</p>\n",
       "</div>"
      ],
      "text/plain": [
       "                                         Left Hand Side  \\\n",
       "0     Basics Apparels_Apparel Non Seasonal_Multipack...   \n",
       "1     Basics Apparels_Apparel Non Seasonal_Multipack...   \n",
       "2     Basics Apparels_Apparel Non Seasonal_Sleepwear...   \n",
       "3     Basics Apparels_Apparel Non Seasonal_Multipack...   \n",
       "4     Basics Apparels_Apparel Non Seasonal_Multipack...   \n",
       "...                                                 ...   \n",
       "3077  Basics Non Apparels_Bath & Bedding_Blankets_Re...   \n",
       "3078  Basics Apparels_Apparel Seasonal_Sleepsuit & R...   \n",
       "3079  Basics Non Apparels_Bath & Bedding_Blankets_Re...   \n",
       "3080  Basics Non Apparels_Bath & Bedding_Blankets_Re...   \n",
       "3081  Basics Non Apparels_Bath & Bedding_Blankets_Re...   \n",
       "\n",
       "                                        Right Hand Side   Support  Confidence  \\\n",
       "0     Basics Apparels_Apparel Non Seasonal_Multipack...  0.002659    0.156203   \n",
       "1     Basics Apparels_Apparel Non Seasonal_Multipack...  0.008334    0.240035   \n",
       "2     Basics Apparels_Apparel Non Seasonal_Multipack...  0.003359    0.169325   \n",
       "3     Basics Apparels_Apparel Regular_Accessories_Bi...  0.007640    0.220047   \n",
       "4     Basics Apparels_Apparel Regular_Accessories_Bo...  0.007700    0.221795   \n",
       "...                                                 ...       ...         ...   \n",
       "3077  Basics Non Apparels_Feeding & Care_Feeding & S...  0.001123    0.784289   \n",
       "3078  Basics Non Apparels_Feeding & Care_Feeding & S...  0.001125    0.784381   \n",
       "3079  Basics Non Apparels_Feeding & Care_Feeding & S...  0.001063    0.799597   \n",
       "3080  Basics Non Apparels_Feeding & Care_Feeding & S...  0.001046    0.795925   \n",
       "3081  Basics Non Apparels_Feeding & Care_Feeding & S...  0.001132    0.805653   \n",
       "\n",
       "           Lift  \n",
       "0      4.499078  \n",
       "1      9.119237  \n",
       "2      4.877026  \n",
       "3      3.686117  \n",
       "4      3.244742  \n",
       "...         ...  \n",
       "3077  10.037509  \n",
       "3078  10.038680  \n",
       "3079  10.233423  \n",
       "3080  10.186429  \n",
       "3081  10.310921  \n",
       "\n",
       "[3082 rows x 5 columns]"
      ]
     },
     "execution_count": 98,
     "metadata": {},
     "output_type": "execute_result"
    }
   ],
   "source": [
    "ordered_results"
   ]
  },
  {
   "cell_type": "code",
   "execution_count": 99,
   "metadata": {},
   "outputs": [],
   "source": [
    "# load final data into excel\n",
    "ordered_results.to_excel(\"ae_mba_lly_v1.xlsx\")"
   ]
  },
  {
   "cell_type": "code",
   "execution_count": null,
   "metadata": {},
   "outputs": [],
   "source": []
  }
 ],
 "metadata": {
  "kernelspec": {
   "display_name": "Python 3",
   "language": "python",
   "name": "python3"
  },
  "language_info": {
   "codemirror_mode": {
    "name": "ipython",
    "version": 3
   },
   "file_extension": ".py",
   "mimetype": "text/x-python",
   "name": "python",
   "nbconvert_exporter": "python",
   "pygments_lexer": "ipython3",
   "version": "3.8.3"
  }
 },
 "nbformat": 4,
 "nbformat_minor": 4
}
